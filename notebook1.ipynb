{
 "cells": [
  {
   "cell_type": "code",
   "execution_count": null,
   "metadata": {},
   "outputs": [],
   "source": [
    "import psycopg2\n",
    "import pandas as pd\n",
    "import pickle"
   ]
  },
  {
   "cell_type": "code",
   "execution_count": null,
   "metadata": {},
   "outputs": [],
   "source": [
    "con = psycopg2.connect(\n",
    "            host = '127.0.0.1',\n",
    "            database = 'fm_loan_data',\n",
    "            user = 'postgres',\n",
    "            password = 'poiupoiu1')\n",
    "\n",
    "cur = con.cursor()\n",
    "\n",
    "# Print PostgreSQL Connection properties\n",
    "print ( con.get_dsn_parameters(),\"\\n\")\n",
    "\n",
    "# Print PostgreSQL version\n",
    "cur.execute(\"SELECT version();\")\n",
    "record = cur.fetchone()\n",
    "print(\"You are connected to - \", record,\"\\n\")\n",
    "\n",
    "query = \"\"\"SELECT * FROM origination_data\n",
    ";\"\"\"\n",
    "\n",
    "\"\"\" Additional Queries Below\n",
    "   SELECT * FROM monthly_performance\n",
    "   INNER JOIN origination_data\n",
    "   ON monthly_performance.ln_seq_number = origination_data.ln_seq_number\n",
    "   WHERE ln_age <= 12\n",
    "   AND curr_ln_delq_stas <> '0';\n",
    "   \n",
    "   \n",
    "   SELECT * FROM monthly_performance\n",
    "   INNER JOIN origination_data\n",
    "   ON monthly_performance.ln_seq_number = origination_data.ln_seq_number\n",
    "   WHERE ln_age > 12\n",
    "   AND ln_age <= 36\n",
    "   AND curr_ln_delq_stas <> '0';\n",
    "   \n",
    "   SELECT * FROM monthly_performance\n",
    "   INNER JOIN origination_data\n",
    "   ON monthly_performance.ln_seq_number = origination_data.ln_seq_number\n",
    "   WHERE ln_age > 36\n",
    "   AND ln_age <= 60\n",
    "   AND curr_ln_delq_stas <> '0';\"\"\"\n",
    "\n",
    "cur.close()\n",
    "con.close()\n"
   ]
  },
  {
   "cell_type": "code",
   "execution_count": null,
   "metadata": {},
   "outputs": [],
   "source": [
    "len(df.index)"
   ]
  },
  {
   "cell_type": "code",
   "execution_count": null,
   "metadata": {},
   "outputs": [],
   "source": [
    "df.to_pickle('fm_loan_data.pkl')\n"
   ]
  }
 ],
 "metadata": {
  "kernelspec": {
   "display_name": "Python 3",
   "language": "python",
   "name": "python3"
  },
  "language_info": {
   "codemirror_mode": {
    "name": "ipython",
    "version": 3
   },
   "file_extension": ".py",
   "mimetype": "text/x-python",
   "name": "python",
   "nbconvert_exporter": "python",
   "pygments_lexer": "ipython3",
   "version": "3.6.9"
  }
 },
 "nbformat": 4,
 "nbformat_minor": 1
}
